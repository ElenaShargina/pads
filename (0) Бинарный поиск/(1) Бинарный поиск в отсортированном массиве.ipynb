{
 "cells": [
  {
   "cell_type": "markdown",
   "id": "b9022b53",
   "metadata": {},
   "source": [
    "# Бинарный поиск в остортированном массиве\n",
    "Время работы: $O(log{n})$"
   ]
  },
  {
   "cell_type": "code",
   "execution_count": 2,
   "id": "bba9b19a",
   "metadata": {},
   "outputs": [
    {
     "name": "stdout",
     "output_type": "stream",
     "text": [
      "[0, 6, 24, 61, 63, 65, 73, 75, 80, 89]\n",
      "Элемент 0 должен быть найден, его позиция - 0\n",
      "Элемент 44 не должен быть найден, его позиция - -1\n",
      "Элемент 200 не должен быть найден, его позиция - -1\n",
      "Элемент -100 не должен быть найден, его позиция - -1\n"
     ]
    }
   ],
   "source": [
    "import random\n",
    "\n",
    "# итеративная функция\n",
    "def binary_search(a, target):\n",
    "    n = len(a)\n",
    "    left = 0\n",
    "    right = n-1\n",
    "    while left <= right:\n",
    "        mid = (left+right)//2\n",
    "        if a[mid] == target:\n",
    "            return mid\n",
    "        elif a[mid]<target:\n",
    "            left = mid+1\n",
    "        else:\n",
    "            right = mid-1\n",
    "    return -1\n",
    "\n",
    "# рекурсивная функция\n",
    "def binary_search_rec(a, target, left, right):\n",
    "    n = right-left+1\n",
    "    if n <=0: return -1\n",
    "    mid = left + n//2\n",
    "    if a[mid] == target:\n",
    "        return mid\n",
    "    elif a[mid]<target:\n",
    "        return binary_search_rec(a, target, mid+1,right)\n",
    "    else:\n",
    "        return binary_search_rec(a, target, left, mid-1)\n",
    "    \n",
    "# РАБОТА ДВОИЧНОГО ПОИСКА\n",
    "n=10\n",
    "a = [random.randint(0,100) for i in range(0,n)]\n",
    "a.sort()\n",
    "print(a)\n",
    "x = random.choice(a)\n",
    "print(f\"Элемент {x} должен быть найден, его позиция - {binary_search(a,x)}\")\n",
    "while x in a:\n",
    "    x = random.randint(0,100)\n",
    "print(f\"Элемент {x} не должен быть найден, его позиция - {binary_search(a,x)}\")\n",
    "print(f\"Элемент 200 не должен быть найден, его позиция - {binary_search(a,200)}\")\n",
    "print(f\"Элемент -100 не должен быть найден, его позиция - {binary_search(a,-100)}\")"
   ]
  },
  {
   "cell_type": "code",
   "execution_count": null,
   "id": "021534d7",
   "metadata": {},
   "outputs": [],
   "source": []
  }
 ],
 "metadata": {
  "kernelspec": {
   "display_name": "Python 3 (ipykernel)",
   "language": "python",
   "name": "python3"
  },
  "language_info": {
   "codemirror_mode": {
    "name": "ipython",
    "version": 3
   },
   "file_extension": ".py",
   "mimetype": "text/x-python",
   "name": "python",
   "nbconvert_exporter": "python",
   "pygments_lexer": "ipython3",
   "version": "3.10.5"
  }
 },
 "nbformat": 4,
 "nbformat_minor": 5
}
