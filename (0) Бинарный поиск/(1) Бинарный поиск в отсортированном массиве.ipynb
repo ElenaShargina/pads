{
 "cells": [
  {
   "cell_type": "markdown",
   "id": "b9022b53",
   "metadata": {},
   "source": [
    "# Бинарный поиск в остортированном массиве\n",
    "Время работы: $O(log{n})$"
   ]
  },
  {
   "cell_type": "code",
   "execution_count": 1,
   "id": "bba9b19a",
   "metadata": {},
   "outputs": [
    {
     "name": "stdout",
     "output_type": "stream",
     "text": [
      "[0, 7, 51, 63, 63, 65, 69, 74, 91, 92]\n",
      "Элемент 0 должен быть найден, его позиция - 0\n",
      "Элемент 89 не должен быть найден, его позиция - -1\n",
      "Элемент 200 не должен быть найден, его позиция - -1\n",
      "Элемент -100 не должен быть найден, его позиция - -1\n"
     ]
    }
   ],
   "source": [
    "import random\n",
    "\n",
    "def binary_sort(a,x):\n",
    "    n = len(a)\n",
    "    left = -1\n",
    "    right = n\n",
    "    while right>left+1:\n",
    "        m = int((left+right)/2)\n",
    "        if a[m]<x:\n",
    "            left = m\n",
    "        else:\n",
    "            right = m\n",
    "    if right<n and a[right] == x:\n",
    "        return right\n",
    "    else:\n",
    "        return -1\n",
    "    \n",
    "# РАБОТА ДВОИЧНОГО ПОИСКА\n",
    "n=10\n",
    "a = [random.randint(0,100) for i in range(0,n)]\n",
    "a.sort()\n",
    "print(a)\n",
    "x = random.choice(a)\n",
    "print(f\"Элемент {x} должен быть найден, его позиция - {binary_sort(a,x)}\")\n",
    "while x in a:\n",
    "    x = random.randint(0,100)\n",
    "print(f\"Элемент {x} не должен быть найден, его позиция - {binary_sort(a,x)}\")\n",
    "print(f\"Элемент 200 не должен быть найден, его позиция - {binary_sort(a,200)}\")\n",
    "print(f\"Элемент -100 не должен быть найден, его позиция - {binary_sort(a,-100)}\")"
   ]
  }
 ],
 "metadata": {
  "kernelspec": {
   "display_name": "Python 3 (ipykernel)",
   "language": "python",
   "name": "python3"
  },
  "language_info": {
   "codemirror_mode": {
    "name": "ipython",
    "version": 3
   },
   "file_extension": ".py",
   "mimetype": "text/x-python",
   "name": "python",
   "nbconvert_exporter": "python",
   "pygments_lexer": "ipython3",
   "version": "3.10.5"
  }
 },
 "nbformat": 4,
 "nbformat_minor": 5
}
