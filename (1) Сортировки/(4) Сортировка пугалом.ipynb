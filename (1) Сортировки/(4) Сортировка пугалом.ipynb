{
 "cells": [
  {
   "cell_type": "markdown",
   "id": "f306013c",
   "metadata": {},
   "source": [
    "# Сортировка пугалом\n",
    "В отличие от других сортировок работает не всегда"
   ]
  },
  {
   "cell_type": "code",
   "execution_count": 3,
   "id": "577740ed",
   "metadata": {},
   "outputs": [],
   "source": [
    "import random\n",
    "from colorama import Fore, Style\n",
    "\n",
    "# служебная функция для раскраски списков\n",
    "def color_list(a:list, key_color:dict) -> None:\n",
    "    \"\"\"\n",
    "    Печатает список с раскрашенными элементами\n",
    "    :param a: list\n",
    "    :param key_color: словарь вида {индекс_эдемента:'цвет'}, например {0:'blue', 2:'red'}\n",
    "    \"\"\"\n",
    "    result = ''\n",
    "    for i, j in enumerate(a):\n",
    "        if i in key_color.keys() and key_color[i].upper() in Fore.__dict__.keys():\n",
    "            result += getattr(Fore, key_color[i].upper()) + str(j) +Style.RESET_ALL+ ' '\n",
    "        else:\n",
    "            result += str(j) + ' '\n",
    "    print(result)"
   ]
  },
  {
   "cell_type": "code",
   "execution_count": 4,
   "id": "4693f590",
   "metadata": {},
   "outputs": [
    {
     "name": "stdout",
     "output_type": "stream",
     "text": [
      "Сортировка пугалом\n",
      "[27, 13, 93, 73, 75, 58, 91, 54, 74]\n",
      "\u001b[32m27\u001b[0m 13 93 \u001b[32m73\u001b[0m 75 58 91 54 74 \n",
      "27 \u001b[32m13\u001b[0m 93 73 \u001b[32m75\u001b[0m 58 91 54 74 \n",
      "27 13 \u001b[32m93\u001b[0m 73 75 \u001b[32m58\u001b[0m 91 54 74 \n",
      "27 13 58 \u001b[32m73\u001b[0m 75 93 \u001b[32m91\u001b[0m 54 74 \n",
      "27 13 58 73 \u001b[32m75\u001b[0m 93 91 \u001b[32m54\u001b[0m 74 \n",
      "27 13 58 73 54 \u001b[32m93\u001b[0m 91 75 \u001b[32m74\u001b[0m \n",
      "\u001b[32m27\u001b[0m 13 58 \u001b[32m73\u001b[0m 54 74 91 75 93 \n",
      "27 \u001b[32m13\u001b[0m 58 73 \u001b[32m54\u001b[0m 74 91 75 93 \n",
      "27 13 \u001b[32m58\u001b[0m 73 54 \u001b[32m74\u001b[0m 91 75 93 \n",
      "27 13 58 \u001b[32m73\u001b[0m 54 74 \u001b[32m91\u001b[0m 75 93 \n",
      "27 13 58 73 \u001b[32m54\u001b[0m 74 91 \u001b[32m75\u001b[0m 93 \n",
      "27 13 58 73 54 \u001b[32m74\u001b[0m 91 75 \u001b[32m93\u001b[0m \n",
      "[27, 13, 58, 73, 54, 74, 91, 75, 93]\n",
      "удалось ли отсортировать - Нет\n"
     ]
    }
   ],
   "source": [
    "def scarecrow(a,k):\n",
    "    \"\"\"\n",
    "    сортирует массив a пугалом с размахом рук k и возвращает True, если удалось отсортировать и False, если нет\n",
    "    :param a: list\n",
    "    :param k: int размах рук пугала, меньше размера массива a\n",
    "    :return: bool удалось ли отсортировать в порядке возрастания\n",
    "    \"\"\"\n",
    "    changes = 1\n",
    "    while changes > 0:\n",
    "        changes = 0\n",
    "        for i in range(0,len(a)-k):\n",
    "            color_list(a,{x:'green' for x in [i,i+k]})\n",
    "            if a[i]>a[i+k]:\n",
    "                changes += 1\n",
    "                a[i],a[i+k] = a[i+k],a[i]\n",
    "    #check\n",
    "    answer = True\n",
    "    for i in range(len(a)-1):\n",
    "        if a[i]>a[i+1]:\n",
    "            answer = False\n",
    "            break\n",
    "    return answer\n",
    "\n",
    "# работа сортировки пугалом\n",
    "n = 9\n",
    "k = 3\n",
    "a = list(random.randint(0,100) for x in range(n))\n",
    "print('Сортировка пугалом')\n",
    "print(a)\n",
    "answer = 'Да' if scarecrow(a,k) else 'Нет'\n",
    "print(a)\n",
    "print(f'удалось ли отсортировать - {answer}')"
   ]
  }
 ],
 "metadata": {
  "kernelspec": {
   "display_name": "Python 3 (ipykernel)",
   "language": "python",
   "name": "python3"
  },
  "language_info": {
   "codemirror_mode": {
    "name": "ipython",
    "version": 3
   },
   "file_extension": ".py",
   "mimetype": "text/x-python",
   "name": "python",
   "nbconvert_exporter": "python",
   "pygments_lexer": "ipython3",
   "version": "3.10.5"
  }
 },
 "nbformat": 4,
 "nbformat_minor": 5
}
