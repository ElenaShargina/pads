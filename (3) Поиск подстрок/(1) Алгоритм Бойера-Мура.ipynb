{
 "cells": [
  {
   "cell_type": "markdown",
   "id": "c6d73d23",
   "metadata": {},
   "source": [
    "# Алгоритм Бойера-Мура\n",
    "Время работы: от $O(n*m)$ на хороших данных до $O(n/m)$ на плохих данных, \n",
    "где n - длина строки, m - длина подстроки"
   ]
  },
  {
   "cell_type": "code",
   "execution_count": 19,
   "id": "c6fa9a60",
   "metadata": {},
   "outputs": [],
   "source": [
    "from collections.abc import Callable\n",
    "from colorama import Fore, Style\n",
    "\n",
    "# Служебная функция для тестирования других функций\n",
    "def test_function(func: Callable[[str],int],test_values: list[str])->None:\n",
    "    for i in test_values:\n",
    "        try:\n",
    "            result = func(*i[0])\n",
    "            print (f'Результат функции {func.__name__} на {i[0]} равен {result}')\n",
    "            assert result == i[1], Fore.RED+ f'Тест с {i[0]} не пройден! {result} != {i[1]}'+Style.RESET_ALL\n",
    "        except AssertionError as err:\n",
    "            print(err)\n",
    "        else:\n",
    "            print(Fore.GREEN+f'Тест с {i[0]} пройден!'+Style.RESET_ALL)"
   ]
  },
  {
   "cell_type": "markdown",
   "id": "a84b3bde",
   "metadata": {},
   "source": [
    "## Идея 1. Эвристика плохого символа "
   ]
  },
  {
   "cell_type": "code",
   "execution_count": 20,
   "id": "41426665",
   "metadata": {},
   "outputs": [
    {
     "name": "stdout",
     "output_type": "stream",
     "text": [
      "Протестируем функцию по подсчету самой правой позиции каждого символа в строке \"asdasfg\"\n",
      "Результат функции table_bad_symbols на ['asdasfg'] равен {'a': 3, 's': 4, 'd': 2, 'f': 5, 'g': 6}\n",
      "\u001b[32mТест с ['asdasfg'] пройден!\u001b[0m\n",
      "Протестируем поиск подстроки с помощью таблицы плохих символов\n",
      "Результат функции find_bad_symbol на ['treasure', 'sure'] равен 4\n",
      "\u001b[32mТест с ['treasure', 'sure'] пройден!\u001b[0m\n",
      "Результат функции find_bad_symbol на ['qwerty', 'u'] равен -1\n",
      "\u001b[32mТест с ['qwerty', 'u'] пройден!\u001b[0m\n",
      "Результат функции find_bad_symbol на ['qwerqwerty', 'qwerty'] равен 4\n",
      "\u001b[32mТест с ['qwerqwerty', 'qwerty'] пройден!\u001b[0m\n"
     ]
    }
   ],
   "source": [
    "# функция считает самую правую позицию каждого символа в шаблоне\n",
    "def table_bad_symbols(s:str) -> dict:\n",
    "    res = {}\n",
    "    for pos,val in enumerate(s):\n",
    "        res[val] = pos\n",
    "    return res\n",
    "\n",
    "print('Протестируем функцию по подсчету самой правой позиции каждого символа в строке \"asdasfg\"')\n",
    "test_values_tbs = [\n",
    "    [['asdasfg'],{'a':3,'s':4,'d':2,'f':5,'g':6}]\n",
    "]\n",
    "\n",
    "test_function(table_bad_symbols,test_values_tbs)\n",
    "\n",
    "# функция ищет подстроку с помощью таблицы плохих символов\n",
    "def find_bad_symbol(s:str,substring:str) -> int:\n",
    "    i = 0\n",
    "    n = len(s)\n",
    "    m = len(substring)\n",
    "    table = table_bad_symbols(s)\n",
    "    # начинаем прикладывать подстроку к строке и сравнивать символы с конца подстроки\n",
    "    while i<=n-m:\n",
    "        # j - последний символ подстроки\n",
    "        j = m-1\n",
    "        # пока символы совпадают, идем назад\n",
    "        while s[i+j] == substring[j]:\n",
    "            j-=1\n",
    "            # если j==0, то прошли всю подстроку\n",
    "            if j<0:\n",
    "                return i\n",
    "        # случай 1 - самое правое вхождение текущего символа строки находится внутри подстроки,\n",
    "        # тогда смещаем i вправо на него\n",
    "        # случай 2 - самое правое вхождение текущего символа строки находится вне пределов\n",
    "        # прикладываемой подстроки (левее её), тогда просто сдвигаем i на единицу\n",
    "        i += max(j-table[s[i+j]],1)\n",
    "    return -1\n",
    "\n",
    "print('Протестируем поиск подстроки с помощью таблицы плохих символов')\n",
    "test_values = [\n",
    "    [['treasure','sure'],4],\n",
    "    [['qwerty','u'],-1],\n",
    "    [['qwerqwerty','qwerty'],4]\n",
    "]\n",
    "\n",
    "test_function(find_bad_symbol, test_values)\n",
    "\n"
   ]
  },
  {
   "cell_type": "markdown",
   "id": "00af98a3",
   "metadata": {},
   "source": [
    "## Эвристика хорошего символа"
   ]
  },
  {
   "cell_type": "code",
   "execution_count": 21,
   "id": "ae4c3e95",
   "metadata": {},
   "outputs": [
    {
     "name": "stdout",
     "output_type": "stream",
     "text": [
      "Протестируем функцию построения таблицы хороших суффиксов \n",
      "Результат функции table_good_suffix на ['колокол'] равен [-1, -1, -1, -1, 0, 1, 2, 0]\n",
      "\u001b[32mТест с ['колокол'] пройден!\u001b[0m\n",
      "Результат функции table_good_suffix на ['абракадабра'] равен [-1, -1, -1, -1, -1, -1, -1, 0, 1, 2, 7, 0]\n",
      "\u001b[32mТест с ['абракадабра'] пройден!\u001b[0m\n",
      "Протестируем поиск подстроки с помощью таблицы хороших символов\n",
      "Результат функции find_good_suffix на ['treasure', 'sure'] равен 4\n",
      "\u001b[32mТест с ['treasure', 'sure'] пройден!\u001b[0m\n",
      "Результат функции find_good_suffix на ['qwerty', 'u'] равен -1\n",
      "\u001b[32mТест с ['qwerty', 'u'] пройден!\u001b[0m\n",
      "Результат функции find_good_suffix на ['qwerqwerty', 'qwerty'] равен 4\n",
      "\u001b[32mТест с ['qwerqwerty', 'qwerty'] пройден!\u001b[0m\n"
     ]
    }
   ],
   "source": [
    "# функция  для каждого суффикса считает его самую правую позицию в тексте\n",
    "# Например: \n",
    "# колокол\n",
    "# ----012\n",
    "# абракадабра\n",
    "# -------0127\n",
    "def table_good_suffix(s:str) -> dict:\n",
    "    m = len(s)\n",
    "    # суффиксов m+1 - считаем так же нулевой пустой суффикс\n",
    "    res = [-1]*(m+1)\n",
    "    res[m] = 0\n",
    "    # последний символ не интересует\n",
    "    for x in range(0,m-1):\n",
    "        # x - правый символ подстроки, которая равна суффиксу\n",
    "        i = x\n",
    "        j = m-1\n",
    "        while i>=0 and s[i]==s[j]:\n",
    "            # суффикс, начинающийся с J  позиций равен подстроке, начинающейся с i позиции\n",
    "            res[j] = i\n",
    "            i-=1\n",
    "            j-=1\n",
    "    return res\n",
    "\n",
    "test_values_suf = [\n",
    "    [['колокол'], [-1,-1,-1,-1,0,1,2,0]],\n",
    "    [['абракадабра'],[-1,]*7+[0,1,2,7,0]]\n",
    "]\n",
    "\n",
    "print('Протестируем функцию построения таблицы хороших суффиксов ')\n",
    "test_function(table_good_suffix,test_values_suf)\n",
    "\n",
    "# функция ищет подстроку с помощью таблицы хороших суффиксов\n",
    "def find_good_suffix(s : str,substring : str) -> int:\n",
    "    n = len(s)\n",
    "    m = len(substring)\n",
    "    suf = table_good_suffix(s)\n",
    "    # прикладываем подстроку к строке, сравнивая символы с конца\n",
    "    i = n-1\n",
    "    while i>0 and i<n:\n",
    "        j = m-1\n",
    "        while s[i]==substring[j]:\n",
    "            i-=1\n",
    "            j-=1\n",
    "            # если прошли до конца подстроку и все совпало,то возвращаем начало ее входа в строку\n",
    "            if j==0:\n",
    "                return i\n",
    "        # j+1 - последний символ из подстроки, который совпадал со строкой\n",
    "        # либо длина подстроки, если несовпадение пошло сразу\n",
    "        # suf[j+1] - позиция, в которой должен быть этот суффикс\n",
    "        # на место j+1 символа должен встать суффикс\n",
    "        i += j+1-suf[j+1]\n",
    "    return -1\n",
    "\n",
    "print('Протестируем поиск подстроки с помощью таблицы хороших символов')\n",
    "test_function(find_good_suffix,test_values)"
   ]
  }
 ],
 "metadata": {
  "kernelspec": {
   "display_name": "Python 3 (ipykernel)",
   "language": "python",
   "name": "python3"
  },
  "language_info": {
   "codemirror_mode": {
    "name": "ipython",
    "version": 3
   },
   "file_extension": ".py",
   "mimetype": "text/x-python",
   "name": "python",
   "nbconvert_exporter": "python",
   "pygments_lexer": "ipython3",
   "version": "3.10.5"
  }
 },
 "nbformat": 4,
 "nbformat_minor": 5
}
