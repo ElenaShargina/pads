{
 "cells": [
  {
   "cell_type": "markdown",
   "id": "132f7714",
   "metadata": {},
   "source": [
    "# Алгоритм Кнута-Морриса-Пратца\n",
    "Время работы: $O(n+m)$, где n - длина строки, m - длина подстроки"
   ]
  },
  {
   "cell_type": "code",
   "execution_count": 11,
   "id": "20ffd189",
   "metadata": {},
   "outputs": [],
   "source": [
    "from collections.abc import Callable\n",
    "\n",
    "# Служебная функция для тестирования других функций\n",
    "def test_function(func: Callable[[str],int],test_values: list[str])->None:\n",
    "    for i in test_values:\n",
    "        try:\n",
    "            result = func(*i[0])\n",
    "            print (f'Результат функции {func.__name__} на {i[0]} равен {result}')\n",
    "            assert result == i[1], f'Тест с {i[0]} не пройден! {result} != {i[1]}'\n",
    "        except AssertionError as err:\n",
    "            print(err)\n",
    "        else:\n",
    "            print(f'Тест с {i[0]} пройден!')"
   ]
  },
  {
   "cell_type": "code",
   "execution_count": 12,
   "id": "6e8d3a82",
   "metadata": {},
   "outputs": [
    {
     "name": "stdout",
     "output_type": "stream",
     "text": [
      "Протестируем функцию построения префиксов:\n",
      "Результат функции pref на ['abacababacb'] равен [None, 0, 0, 1, 0, 1, 2, 3, 2, 3, 4, 0]\n",
      "Тест с ['abacababacb'] пройден!\n",
      "Результат функции pref на ['ababab'] равен [None, 0, 0, 1, 2, 3, 4]\n",
      "Тест с ['ababab'] пройден!\n",
      "Результат функции pref на ['AB'] равен [None, 0, 0]\n",
      "Тест с ['AB'] пройден!\n",
      "Результат функции pref на ['abcda'] равен [None, 0, 0, 0, 0, 1]\n",
      "Тест с ['abcda'] пройден!\n",
      "Результат функции pref на ['abababa'] равен [None, 0, 0, 1, 2, 3, 4, 5]\n",
      "Тест с ['abababa'] пройден!\n"
     ]
    }
   ],
   "source": [
    "# функция построения префиксов для строки\n",
    "# префикс - максимальный по длине собственный префикс строки s, являющийся также ее суффиксом\n",
    "# функция строит массив префиксов, где каждому символу соответствует\n",
    "# длина префикса подстроки, заканчивающейся этим префиксом\n",
    "def pref(s:str) -> list:\n",
    "    n = len(s)\n",
    "    res = [0 for i in range(0, n+1)]\n",
    "    # i идет по строке, начиная со второго символа.\n",
    "    # у подстроки из двух символов префикс равен пустой строке\n",
    "    i = 1\n",
    "    # j идет по виртуальной копии строки, которую мы прикладываем к имеющейся строке\n",
    "    j = 0\n",
    "    while i < n:\n",
    "        # если символы совпали, все хорошо, для данной подстроки префикс существует\n",
    "        # и он длиной j+1(нумерация идет с нуля)\n",
    "        if s[i] == s[j]:\n",
    "            res[i+1] = j+1\n",
    "            i+=1\n",
    "            j+=1\n",
    "        else:\n",
    "            # если префикс уже не пустой, то перемещаемся на длину префикса\n",
    "            if j>0:\n",
    "                j = res[j]\n",
    "            else:\n",
    "                # если префикс пустой, а символы не совпали, то просто запишем ноль в результат\n",
    "                res[i+1] = 0\n",
    "                i += 1\n",
    "    # нулевой префикс - для пустой подстроки\n",
    "    res[0] = None\n",
    "    return res\n",
    "\n",
    "test_values = [\n",
    "    [['abacababacb'],[None,0,0,1,0,1,2,3,2,3,4,0]],\n",
    "    [['ababab'],[None,0,0,1,2,3,4]],\n",
    "    [['AB'],[None,0,0]],\n",
    "    [['abcda'],[None,0,0,0,0,1]],\n",
    "    [['abababa'],[None,0,0,1,2,3,4,5]]\n",
    "]\n",
    "\n",
    "print('Протестируем функцию построения префиксов:')\n",
    "test_function(pref, test_values)"
   ]
  },
  {
   "cell_type": "code",
   "execution_count": 13,
   "id": "dcf56bef",
   "metadata": {},
   "outputs": [
    {
     "name": "stdout",
     "output_type": "stream",
     "text": [
      "Протестируем функцию поиска подстрок:\n",
      "Результат функции kmp на ['ababa', 'ab'] равен 0\n",
      "Тест с ['ababa', 'ab'] пройден!\n",
      "Результат функции kmp на ['treasure', 'sure'] равен 4\n",
      "Тест с ['treasure', 'sure'] пройден!\n",
      "Результат функции kmp на ['s', 's'] равен 0\n",
      "Тест с ['s', 's'] пройден!\n",
      "Результат функции kmp на ['qwerty', 'u'] равен -1\n",
      "Тест с ['qwerty', 'u'] пройден!\n",
      "Результат функции kmp на ['qwerqwerty', 'qwerty'] равен 4\n",
      "Тест с ['qwerqwerty', 'qwerty'] пройден!\n"
     ]
    }
   ],
   "source": [
    "# функция поиска подстроки с помощью массива префиксов\n",
    "def kmp(s:str,sub:str)->int:\n",
    "    i,j=0,0\n",
    "    n = len(s)\n",
    "    m = len(sub)\n",
    "    p = pref(s)\n",
    "    while i<n and j<m:\n",
    "        if s[i]==sub[j]:\n",
    "            i+= 1\n",
    "            j+= 1\n",
    "        else:\n",
    "            if j>0:\n",
    "                j = p[j]\n",
    "            else:\n",
    "                i += 1\n",
    "    if j == m:\n",
    "        return i-m\n",
    "    else:\n",
    "        return -1\n",
    "\n",
    "test_values = [\n",
    "    [['ababa','ab'],0],\n",
    "    [['treasure','sure'],4],\n",
    "    [['s','s'],0],\n",
    "    [['qwerty','u'],-1],\n",
    "    [['qwerqwerty','qwerty'],4]\n",
    "]\n",
    "\n",
    "print('Протестируем функцию поиска подстрок:')\n",
    "test_function(kmp, test_values)"
   ]
  }
 ],
 "metadata": {
  "kernelspec": {
   "display_name": "Python 3 (ipykernel)",
   "language": "python",
   "name": "python3"
  },
  "language_info": {
   "codemirror_mode": {
    "name": "ipython",
    "version": 3
   },
   "file_extension": ".py",
   "mimetype": "text/x-python",
   "name": "python",
   "nbconvert_exporter": "python",
   "pygments_lexer": "ipython3",
   "version": "3.10.5"
  }
 },
 "nbformat": 4,
 "nbformat_minor": 5
}
