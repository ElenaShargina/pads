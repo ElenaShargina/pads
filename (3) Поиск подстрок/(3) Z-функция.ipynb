{
 "cells": [
  {
   "cell_type": "markdown",
   "id": "089932e7",
   "metadata": {},
   "source": [
    "# Z-функция\n"
   ]
  },
  {
   "cell_type": "code",
   "execution_count": 1,
   "id": "2d5db08b",
   "metadata": {},
   "outputs": [],
   "source": [
    "from collections.abc import Callable\n",
    "from colorama import Fore, Style\n",
    "\n",
    "# Служебная функция для тестирования других функций\n",
    "def test_function(func: Callable[[str],int],test_values: list[str])->None:\n",
    "    for i in test_values:\n",
    "        try:\n",
    "            result = func(*i[0])\n",
    "            print (f'Результат функции {func.__name__} на {i[0]} равен {result}')\n",
    "            assert result == i[1], Fore.RED+ f'Тест с {i[0]} не пройден! {result} != {i[1]}'+Style.RESET_ALL\n",
    "        except AssertionError as err:\n",
    "            print(err)\n",
    "        else:\n",
    "            print(Fore.GREEN+f'Тест с {i[0]} пройден!'+Style.RESET_ALL)"
   ]
  },
  {
   "cell_type": "code",
   "execution_count": 2,
   "id": "02df6b90",
   "metadata": {},
   "outputs": [
    {
     "name": "stdout",
     "output_type": "stream",
     "text": [
      "Протестируем функцию нахождения z-функции\n",
      "Результат функции z_simple на ['ABABABACABA'] равен [None, 0, 5, 0, 3, 0, 1, 0, 3, 0, 1]\n",
      "\u001b[32mТест с ['ABABABACABA'] пройден!\u001b[0m\n",
      "Результат функции z_simple на ['AB'] равен [None, 0]\n",
      "\u001b[32mТест с ['AB'] пройден!\u001b[0m\n",
      "Результат функции z_simple на ['ABABABC'] равен [None, 0, 4, 0, 2, 0, 0]\n",
      "\u001b[32mТест с ['ABABABC'] пройден!\u001b[0m\n",
      "Результат функции z_simple на ['SSSSSSS'] равен [None, 6, 5, 4, 3, 2, 1]\n",
      "\u001b[32mТест с ['SSSSSSS'] пройден!\u001b[0m\n"
     ]
    }
   ],
   "source": [
    "# функция вычисляет z-функцию строки\n",
    "# z[i] - длина наибольшей подстроки,\n",
    "# начинающейся в позиции i и равной префиксу той же длины\n",
    "# ABABABACABA\n",
    "# -0503010301\n",
    "def z_simple(s:str) -> list:\n",
    "    n = len(s)\n",
    "    res = [None]*n\n",
    "    for i in range(1,n):\n",
    "        j = 0\n",
    "        while i+j<n and s[i+j]==s[j]:\n",
    "            j+=1\n",
    "        res[i] = j\n",
    "    return res\n",
    "\n",
    "test_values_z = [\n",
    "    [['ABABABACABA'],[None,]+[int(i) for i in '0503010301']],\n",
    "    [['AB'],[None,0]],\n",
    "    [['ABABABC'],[None,0,4,0,2,0,0]],\n",
    "    [['SSSSSSS'],[None,6,5,4,3,2,1]]\n",
    "]\n",
    "\n",
    "print('Протестируем функцию нахождения z-функции')\n",
    "test_function(z_simple, test_values_z)"
   ]
  },
  {
   "cell_type": "code",
   "execution_count": 3,
   "id": "00d5acd1",
   "metadata": {
    "scrolled": true
   },
   "outputs": [
    {
     "name": "stdout",
     "output_type": "stream",
     "text": [
      "Протестируем функцию нахождения z-блоков\n",
      "Результат функции z_block на ['abababacaba'] равен [None, 0, 5, 0, 3, 0, 1, 0, 3, 0, 1]\n",
      "\u001b[32mТест с ['abababacaba'] пройден!\u001b[0m\n",
      "Результат функции z_block на ['abc'] равен [None, 0, 0]\n",
      "\u001b[32mТест с ['abc'] пройден!\u001b[0m\n",
      "Результат функции z_block на ['ababac'] равен [None, 0, 3, 0, 1, 0]\n",
      "\u001b[32mТест с ['ababac'] пройден!\u001b[0m\n"
     ]
    }
   ],
   "source": [
    "# функция поиска z-блоков\n",
    "# z-блок - подстрока от i до (i+z[i]-1)\n",
    "# храним z-block [L..R-1] с наибольшим R, то есть самый правый z-блок\n",
    "# время работы O(n)\n",
    "def z_block(s:str) -> list:\n",
    "    n = len(s)\n",
    "    L,R = 0,0\n",
    "    z = [None,]*n\n",
    "    for i in range(1,n):\n",
    "        if i >= R:\n",
    "            j = 0\n",
    "            while i + j < n and s[i+j]==s[j]:\n",
    "                j += 1\n",
    "            L = i\n",
    "            R = i+j\n",
    "            z[i] = j\n",
    "        else:\n",
    "            if z[i-L]<R-i:\n",
    "                z[i] = z[i-L]\n",
    "            else:\n",
    "                j = R-i\n",
    "                while i+j<n and s[i+j] == s[j]:\n",
    "                    j += 1\n",
    "                L = i\n",
    "                R = i+j\n",
    "                z[i] = j\n",
    "    # z[0] = None\n",
    "    return z\n",
    "\n",
    "\n",
    "test_values_z_block = [\n",
    "    [['abababacaba'],[None,0,5,0,3,0,1,0,3,0,1]],\n",
    "    [['abc'],[None,0,0]],\n",
    "    [['ababac'],[None,0,3,0,1,0]]\n",
    "]\n",
    "\n",
    "print('Протестируем функцию нахождения z-блоков')\n",
    "test_function(z_block, test_values_z_block)"
   ]
  },
  {
   "cell_type": "code",
   "execution_count": 4,
   "id": "8f82e644",
   "metadata": {},
   "outputs": [
    {
     "name": "stdout",
     "output_type": "stream",
     "text": [
      "Протестируем функцию поиска подстроки\n",
      "Результат функции find на ['ababa', 'ab'] равен 0\n",
      "\u001b[32mТест с ['ababa', 'ab'] пройден!\u001b[0m\n",
      "Результат функции find на ['treasure', 'sure'] равен 4\n",
      "\u001b[32mТест с ['treasure', 'sure'] пройден!\u001b[0m\n",
      "Результат функции find на ['s', 's'] равен 0\n",
      "\u001b[32mТест с ['s', 's'] пройден!\u001b[0m\n",
      "Результат функции find на ['qwerty', 'u'] равен -1\n",
      "\u001b[32mТест с ['qwerty', 'u'] пройден!\u001b[0m\n",
      "Результат функции find на ['qwerqwerty', 'qwerty'] равен 4\n",
      "\u001b[32mТест с ['qwerqwerty', 'qwerty'] пройден!\u001b[0m\n"
     ]
    }
   ],
   "source": [
    "# функция поиска с помощью z-функции\n",
    "def find(s:str,subs:str) -> int:\n",
    "    z = z_block(subs+'#'+s)\n",
    "    m = len(subs)\n",
    "    for (i,val) in enumerate(z[m+1:]):\n",
    "        if val == m:\n",
    "            return i\n",
    "    return -1\n",
    "\n",
    "test_values = [\n",
    "    [['ababa','ab'],0],\n",
    "    [['treasure','sure'],4],\n",
    "    [['s','s'],0],\n",
    "    [['qwerty','u'],-1],\n",
    "    [['qwerqwerty','qwerty'],4]\n",
    "]\n",
    "\n",
    "print('Протестируем функцию поиска подстроки')\n",
    "test_function(find, test_values)"
   ]
  }
 ],
 "metadata": {
  "kernelspec": {
   "display_name": "Python 3 (ipykernel)",
   "language": "python",
   "name": "python3"
  },
  "language_info": {
   "codemirror_mode": {
    "name": "ipython",
    "version": 3
   },
   "file_extension": ".py",
   "mimetype": "text/x-python",
   "name": "python",
   "nbconvert_exporter": "python",
   "pygments_lexer": "ipython3",
   "version": "3.10.5"
  }
 },
 "nbformat": 4,
 "nbformat_minor": 5
}
