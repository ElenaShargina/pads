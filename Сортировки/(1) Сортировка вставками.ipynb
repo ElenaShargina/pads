{
 "cells": [
  {
   "cell_type": "markdown",
   "id": "0a6500f1",
   "metadata": {},
   "source": [
    "# Сортировка вставками\n",
    "Память: $O(n)$ \n",
    "\n",
    "Вычислительная мощность: $O({n}^{2})$"
   ]
  },
  {
   "cell_type": "code",
   "execution_count": 12,
   "id": "e70fedc5",
   "metadata": {},
   "outputs": [],
   "source": [
    "import random\n",
    "from colorama import Fore, Style\n",
    "\n",
    "# служебная функция для раскраски списков\n",
    "def color_list(a:list, key_color:dict) -> None:\n",
    "    \"\"\"\n",
    "    Печатает список с раскрашенными элементами\n",
    "    :param a: list\n",
    "    :param key_color: словарь вида {индекс_эдемента:'цвет'}, например {0:'blue', 2:'red'}\n",
    "    \"\"\"\n",
    "    result = ''\n",
    "    for i, j in enumerate(a):\n",
    "        if i in key_color.keys() and key_color[i].upper() in Fore.__dict__.keys():\n",
    "            result += getattr(Fore, key_color[i].upper()) + str(j) +Style.RESET_ALL+ ' '\n",
    "        else:\n",
    "            result += str(j) + ' '\n",
    "    print(result)\n",
    "    \n"
   ]
  },
  {
   "cell_type": "code",
   "execution_count": 13,
   "id": "ceb9134a",
   "metadata": {},
   "outputs": [],
   "source": [
    "def sort_insertion(a):\n",
    "    for j in range(1,len(a)):\n",
    "        #color_list(a,{j:'red'})\n",
    "        # фиксируем а[j] и двигаем его влево пока нужно\n",
    "        key = a[j]\n",
    "        i = j-1\n",
    "        # просматриваем массив слева от ключа пока не найдем a[i], меньшее ключа\n",
    "        while i >= 0 and a[i] >= key:\n",
    "            # сдвигаем массив вправо, если ключ меньше просматриваемого значения, освобождаем место для ключа\n",
    "            #color_list(a, {i:'blue',i+1:'blue'})\n",
    "            a[i+1] = a[i]\n",
    "            i = i-1\n",
    "        # вставляем ключ\n",
    "        a[i+1] = key\n",
    "        color_list(a,{i+1:'yellow'})\n"
   ]
  },
  {
   "cell_type": "code",
   "execution_count": 15,
   "id": "3fb55b03",
   "metadata": {},
   "outputs": [
    {
     "name": "stdout",
     "output_type": "stream",
     "text": [
      "5 88 71 19 48 9 14 21 46 42\n",
      "5 \u001b[33m88\u001b[0m 71 19 48 9 14 21 46 42 \n",
      "5 \u001b[33m71\u001b[0m 88 19 48 9 14 21 46 42 \n",
      "5 \u001b[33m19\u001b[0m 71 88 48 9 14 21 46 42 \n",
      "5 19 \u001b[33m48\u001b[0m 71 88 9 14 21 46 42 \n",
      "5 \u001b[33m9\u001b[0m 19 48 71 88 14 21 46 42 \n",
      "5 9 \u001b[33m14\u001b[0m 19 48 71 88 21 46 42 \n",
      "5 9 14 19 \u001b[33m21\u001b[0m 48 71 88 46 42 \n",
      "5 9 14 19 21 \u001b[33m46\u001b[0m 48 71 88 42 \n",
      "5 9 14 19 21 \u001b[33m42\u001b[0m 46 48 71 88 \n",
      "5 9 14 19 21 42 46 48 71 88\n"
     ]
    }
   ],
   "source": [
    "# РАБОТА СОРТИРОВКИ ВСТАВКАМИ\n",
    "# Создаем случайный список из n элементов\n",
    "n = 10\n",
    "a = list(random.randint(0,100) for x in range(0,n))\n",
    "print(' '.join(map(str, a)))\n",
    "# сортируем\n",
    "sort_insertion(a)\n",
    "# выводим результат\n",
    "print(' '.join(map(str, a)))"
   ]
  }
 ],
 "metadata": {
  "kernelspec": {
   "display_name": "Python 3 (ipykernel)",
   "language": "python",
   "name": "python3"
  },
  "language_info": {
   "codemirror_mode": {
    "name": "ipython",
    "version": 3
   },
   "file_extension": ".py",
   "mimetype": "text/x-python",
   "name": "python",
   "nbconvert_exporter": "python",
   "pygments_lexer": "ipython3",
   "version": "3.10.5"
  }
 },
 "nbformat": 4,
 "nbformat_minor": 5
}
