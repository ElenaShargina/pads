{
 "cells": [
  {
   "cell_type": "markdown",
   "id": "049d4749",
   "metadata": {},
   "source": [
    "# Сортировка слиянием методом Шелла\n",
    "Память $O(n)$\n",
    "\n",
    "Вычислительная мощность $O(n*{log}^2n)$"
   ]
  },
  {
   "cell_type": "code",
   "execution_count": 4,
   "id": "74d2faf6",
   "metadata": {},
   "outputs": [
    {
     "name": "stdout",
     "output_type": "stream",
     "text": [
      "слияние двух отсортированных массива\n",
      "[4, 44, 63, 65, 89]\n",
      "[51, 63, 90, 97]\n",
      "[4, 44, 51, 63, 63, 65, 89, 90, 97]\n"
     ]
    }
   ],
   "source": [
    "import random\n",
    "# функция для слияния двух заранее отсортированных массива\n",
    "# O(n+m) времени, O(N) доп памяти\n",
    "def merge_sorted(a,b):\n",
    "    \"\"\"\n",
    "сливает два ОТСОРТИРОВАННЫХ массива в один\n",
    "    :param a: list отсортированный массив\n",
    "    :param b: list отсортированный массив\n",
    "    :return: list результат слияния двух массивов - отсортированный по возрастанию массив\n",
    "    \"\"\"\n",
    "    c = []\n",
    "    i, j = 0, 0\n",
    "    n, m = len(a), len(b)\n",
    "    while i<n or j<m:\n",
    "        if j==m or (i<n and a[i]<b[j]):\n",
    "            c.append(a[i])\n",
    "            i += 1\n",
    "        else:\n",
    "            c.append(b[j])\n",
    "            j += 1\n",
    "    return c\n",
    "\n",
    "# РАБОТА АЛГОРИТМА СЛИЯНИЯ ДВУХ ОТСОРТИРОВАННЫХ МАССИВА\n",
    "print('слияние двух отсортированных массива')\n",
    "n = 5\n",
    "m = 4\n",
    "a = sorted(random.randint(0,100) for x in range(n))\n",
    "b = sorted(random.randint(0,100) for x in range(m))\n",
    "print(a)\n",
    "print(b)\n",
    "c = merge_sorted(a, b)\n",
    "print(c)"
   ]
  },
  {
   "cell_type": "code",
   "execution_count": 5,
   "id": "4233fac3",
   "metadata": {},
   "outputs": [],
   "source": [
    "# сортировка слиянием методом Шелла\n",
    "def sort_shell(a):\n",
    "    n = len(a)\n",
    "    if n == 1:\n",
    "        return a\n",
    "    else:\n",
    "        left = a[0:n//2]\n",
    "        right = a[n//2:n]\n",
    "        left = sort_shell(left)\n",
    "        right = sort_shell(right)\n",
    "        return merge_sorted(left, right)\n"
   ]
  },
  {
   "cell_type": "code",
   "execution_count": 6,
   "id": "34676b06",
   "metadata": {},
   "outputs": [
    {
     "name": "stdout",
     "output_type": "stream",
     "text": [
      "[61, 16, 78, 27, 93, 39, 29, 56, 44, 98]\n",
      "[16, 27, 29, 39, 44, 56, 61, 78, 93, 98]\n"
     ]
    }
   ],
   "source": [
    "# РАБОТА СОРТИРОВКИ ШЕЛЛА\n",
    "# создадим случайный список длины n\n",
    "n = 10\n",
    "a = list(random.randint(0,100) for x in range(n))\n",
    "print(a)\n",
    "# отсортируем его \n",
    "c = sort_shell(a)\n",
    "print(c)"
   ]
  }
 ],
 "metadata": {
  "kernelspec": {
   "display_name": "Python 3 (ipykernel)",
   "language": "python",
   "name": "python3"
  },
  "language_info": {
   "codemirror_mode": {
    "name": "ipython",
    "version": 3
   },
   "file_extension": ".py",
   "mimetype": "text/x-python",
   "name": "python",
   "nbconvert_exporter": "python",
   "pygments_lexer": "ipython3",
   "version": "3.10.5"
  }
 },
 "nbformat": 4,
 "nbformat_minor": 5
}
