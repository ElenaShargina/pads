{
 "cells": [
  {
   "cell_type": "markdown",
   "id": "d3a4eedd",
   "metadata": {},
   "source": [
    "# Быстрая сортировка (сортировка Хоара)"
   ]
  },
  {
   "cell_type": "code",
   "execution_count": 8,
   "id": "dd6a75c0",
   "metadata": {},
   "outputs": [
    {
     "name": "stdout",
     "output_type": "stream",
     "text": [
      "работа сортировки Хоара для массива с неповторяющимися элементами\n",
      "[4, 8, 6, 3, 0, 5, 7, 2, 1, 9]\n",
      "[0, 1, 2, 3, 4, 5, 6, 7, 8, 9]\n"
     ]
    }
   ],
   "source": [
    "import random\n",
    "# -------------- БЫСТРАЯ СОРТИРОВКА (СОРТИРОВКА ХОАРА) --------------------\n",
    "# Время: O(N*logN) времени , \n",
    "# Память: O(1) доп памяти, \n",
    "# O(n^2) - худшее время\n",
    "# использует генератор случайных чисел\n",
    "# Работает для массива из РАЗЛИЧНЫХ элементов\n",
    "\n",
    "def quick_sort1(a, left, right):\n",
    "    \"\"\"\n",
    "    сортирует подмассив a в границах left, right по возрастанию\n",
    "    :param a: list массив различных элементов\n",
    "    :param left: int левая граница подмассива для сортировки\n",
    "    :param right: int правая граница подмассива для сортировки\n",
    "    \"\"\"\n",
    "    def split(a,left,right, x):\n",
    "        \"\"\"\n",
    "        делит подмассив на две части - меньше и больше либо равно Х\n",
    "        :param a: list массив\n",
    "        :param left: int левая граница подмассива\n",
    "        :param right: int правая граница подмассива\n",
    "        :param x: int элемент, с которым сравниваем\n",
    "        :return: позиция разделения двух частей подмассива\n",
    "        \"\"\"\n",
    "        j = left\n",
    "        for i in range(left,right):\n",
    "            if a[i] < x:\n",
    "                a[i], a[j] = a[j], a[i]\n",
    "                j += 1\n",
    "        return j\n",
    "\n",
    "    if left == right:\n",
    "        return None\n",
    "    x = random.choice(a[left:right])\n",
    "    # print(f'x={x}')\n",
    "    m = split(a, left, right, x)\n",
    "    if left < m:\n",
    "        quick_sort1(a, left, m)\n",
    "    if m < right-1:\n",
    "        quick_sort1(a, m, right)\n",
    "\n",
    "# РАБОТА СОРТИРОВКИ ХОАРА\n",
    "print('работа сортировки Хоара для массива с неповторяющимися элементами')\n",
    "n = 10\n",
    "a = list(range(0,n))\n",
    "random.shuffle(a)\n",
    "print(a)\n",
    "quick_sort1(a, 0, n)\n",
    "print(a)\n",
    "\n"
   ]
  },
  {
   "cell_type": "code",
   "execution_count": 9,
   "id": "a71c167c",
   "metadata": {},
   "outputs": [
    {
     "name": "stdout",
     "output_type": "stream",
     "text": [
      "работа сортировки Хоара для массива с повторяющимися элементами\n",
      "[8, 7, 8, 3, 2, 10, 5, 9, 8, 1]\n",
      "[1, 2, 3, 5, 7, 8, 8, 8, 9, 10]\n"
     ]
    }
   ],
   "source": [
    "# -------------- БЫСТРАЯ СОРТИРОВКА (СОРТИРОВКА ХОАРА) -----------\n",
    "# -----------ДЛЯ МАССИВА С ВСТРЕЧАЮЩИМИСЯ ОДИНАКОВЫМИ ЭЛЕМЕНТАМИ --------------------\n",
    "# время: O(N*logN)\n",
    "# память: O(1) доп памяти\n",
    "# использует генератор случайных чисел\n",
    "# В массиве допускаются одинаковые элементы\n",
    "\n",
    "def quick_sort2(a, left, right):\n",
    "    \"\"\"\n",
    "сортирует подмассив a в границах left, right по возрастанию\n",
    "    :param a: list массив различных элементов\n",
    "    :param left: int левая граница подмассива для сортировки\n",
    "    :param right: int правая граница подмассива для сортировки\n",
    "    \"\"\"\n",
    "\n",
    "    if left >= right:\n",
    "        return None\n",
    "    else:\n",
    "        x = random.choice(a[left:right])\n",
    "        i = left\n",
    "        j = right\n",
    "        while i <= j:\n",
    "            while a[i]<x:\n",
    "                i += 1\n",
    "            while a[j]>x:\n",
    "                j -= 1\n",
    "            if i <= j:\n",
    "                a[i],a[j] = a[j],a[i]\n",
    "                i+=1\n",
    "                j-=1\n",
    "                quick_sort2(a,left,j)\n",
    "                quick_sort2(a,i,right)\n",
    "\n",
    "# РАБОТА СОРТИРОВКИ ХОАРА для массива с повторяющимися элементами\n",
    "print('работа сортировки Хоара для массива с повторяющимися элементами')\n",
    "n = 10\n",
    "a = [random.randint(0,10) for x in range(0,n)]\n",
    "print(a)\n",
    "quick_sort2(a, 0, n-1)\n",
    "print(a)"
   ]
  },
  {
   "cell_type": "code",
   "execution_count": 10,
   "id": "d6a623d0",
   "metadata": {},
   "outputs": [
    {
     "name": "stdout",
     "output_type": "stream",
     "text": [
      "Быстрая сортировка, выбирающая в качестве медианного элемента средний элемент массива\n",
      "[92, 61, 28, 55, 94, 33, 18, 67, 1, 54]\n",
      "[1, 18, 28, 33, 54, 55, 61, 67, 92, 94]\n"
     ]
    }
   ],
   "source": [
    "# --------------- БЫСТРАЯ СОРТИРОВКА (СОРТИРОВКА ХОАРА) -------------------\n",
    "# выбирает в качестве x не случайное число, а средний элемент подмассива\n",
    "\n",
    "def quick_sort3(a, left, right):\n",
    "    \"\"\"\n",
    "    сортировка подмассива а в границах left и right\n",
    "    :param a: list\n",
    "    :param left: int\n",
    "    :param right: int\n",
    "    \"\"\"\n",
    "    key = a[(left+right)//2]\n",
    "    i = left\n",
    "    j = right\n",
    "    while i < j:\n",
    "        while a[i]<key:\n",
    "            i += 1\n",
    "        while a[j]>key:\n",
    "            j -=1\n",
    "        if i <= j:\n",
    "            a[i], a[j] = a[j], a[i]\n",
    "            i += 1\n",
    "            j -= 1\n",
    "        if left < j:\n",
    "            quick_sort3(a, left, j)\n",
    "        if i < right:\n",
    "            quick_sort3(a, i, right)\n",
    "\n",
    "# РАБОТА БЫСТРОЙ СОРТИРОВКИ\n",
    "n = 10\n",
    "a = list(random.randint(0,100) for x in range(n))\n",
    "print('Быстрая сортировка, выбирающая в качестве медианного элемента средний элемент массива')\n",
    "print(a)\n",
    "quick_sort3(a, 0, n-1)\n",
    "print(a)\n"
   ]
  }
 ],
 "metadata": {
  "kernelspec": {
   "display_name": "Python 3 (ipykernel)",
   "language": "python",
   "name": "python3"
  },
  "language_info": {
   "codemirror_mode": {
    "name": "ipython",
    "version": 3
   },
   "file_extension": ".py",
   "mimetype": "text/x-python",
   "name": "python",
   "nbconvert_exporter": "python",
   "pygments_lexer": "ipython3",
   "version": "3.10.5"
  }
 },
 "nbformat": 4,
 "nbformat_minor": 5
}
