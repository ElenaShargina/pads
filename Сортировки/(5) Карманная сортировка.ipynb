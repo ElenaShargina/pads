{
 "cells": [
  {
   "cell_type": "markdown",
   "id": "10da8d17",
   "metadata": {},
   "source": [
    "# Карманная сортировка"
   ]
  },
  {
   "cell_type": "code",
   "execution_count": 1,
   "id": "0a6cb470",
   "metadata": {},
   "outputs": [
    {
     "name": "stdout",
     "output_type": "stream",
     "text": [
      "[0.94, 0.21, 0.24, 0.69, 0.1, 0.03, 0.72, 0.6, 0.37, 0.6]\n",
      "[0.03, 0.1, 0.21, 0.24, 0.37, 0.6, 0.6, 0.69, 0.72, 0.94]\n"
     ]
    }
   ],
   "source": [
    "import random\n",
    "# КАРМАННАЯ СОРТИРОВКА\n",
    "# для сортировки данных, равномерно распределенных в некотором интервале\n",
    "# рассмотрим сортировку массива из n вещественных чисел,\n",
    "# равномерно распределенных в интервале [0,1)\n",
    "# разобьем интервал [0,1) на n одинаковых интервалов - карманов -\n",
    "# и распределить по ним n сортируемых чисел\n",
    "# далее в каждом из карманов происходит сортировка чисел, потом карманы перечисляются последовательно\n",
    "# если в качестве сортировки каждого кармана брать сортировку вставкой с O(n^2), то\n",
    "# время работы карманной сортировки Тетра(n)\n",
    "\n",
    "def bucket_sort(a):\n",
    "    b = [[] for i in range(0,n)]\n",
    "    result = []\n",
    "    for i in range(0,n):\n",
    "        # вставляем в начало списка для экономии времени на проход списка\n",
    "        b[int(n*a[i])].insert(0,a[i])\n",
    "    for i in range(0,n):\n",
    "        b[i].sort()\n",
    "    for i in range(0,n):\n",
    "        result = result + b[i]\n",
    "    return result\n",
    "\n",
    "# работа карманной сортировки\n",
    "n = 10\n",
    "a = [random.randint(0,99)/100 for i in range(0,n)]\n",
    "print(a)\n",
    "a = bucket_sort(a)\n",
    "print(a)"
   ]
  }
 ],
 "metadata": {
  "kernelspec": {
   "display_name": "Python 3 (ipykernel)",
   "language": "python",
   "name": "python3"
  },
  "language_info": {
   "codemirror_mode": {
    "name": "ipython",
    "version": 3
   },
   "file_extension": ".py",
   "mimetype": "text/x-python",
   "name": "python",
   "nbconvert_exporter": "python",
   "pygments_lexer": "ipython3",
   "version": "3.10.5"
  }
 },
 "nbformat": 4,
 "nbformat_minor": 5
}
