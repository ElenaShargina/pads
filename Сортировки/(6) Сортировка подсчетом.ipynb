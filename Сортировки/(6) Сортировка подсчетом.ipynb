{
 "cells": [
  {
   "cell_type": "markdown",
   "id": "982c03c3",
   "metadata": {},
   "source": [
    "# Сортировка подсчётом"
   ]
  },
  {
   "cell_type": "code",
   "execution_count": 5,
   "id": "6243f80e",
   "metadata": {},
   "outputs": [
    {
     "name": "stdout",
     "output_type": "stream",
     "text": [
      "[3, 3, 7, 0, 3, 10, 0, 1, 10, 0]\n",
      "[0, 0, 0, 1, 3, 3, 3, 7, 10, 10]\n"
     ]
    }
   ],
   "source": [
    "import string\n",
    "import random\n",
    "\n",
    "# СОРТИРОВКА ПОДСЧЕТОМ\n",
    "# сортировка массива из n целых чисел от 0 до k, где k - константа\n",
    "# Если k=O(n), то время сортировка O(n+k)\n",
    "# идея сортировки - для каждого элемента x определить число элементов, меньше x\n",
    "\n",
    "def sort_by_count(a,b,k):\n",
    "    # a[1..n] - сортируемый массив\n",
    "    # b[1..n] - отсортированный массив\n",
    "    # c[0...k] - массив для подсчета для каждого элемента x числе элементов,\n",
    "    #           не превыщающих его\n",
    "\n",
    "    c = []\n",
    "    for i in range(0,k+1):\n",
    "        c.append(0)\n",
    "    for i in range(0,len(a)):\n",
    "        c[a[i]] += 1\n",
    "    for i in range(1,k+1):\n",
    "        c[i] = c[i-1]+c[i]\n",
    "    for i in range(0,len(a)):\n",
    "        b[c[a[i]]-1] = a[i]\n",
    "        c[a[i]] -= 1\n",
    "\n",
    "# работа сортировки подсчетом\n",
    "# количество элементов в массиве\n",
    "n = 10\n",
    "# ограничение на каждый элемент массива\n",
    "k = 10\n",
    "a = [random.randint(0,k) for i in range(0,n)]\n",
    "b = [0 for i in range(0,n)]\n",
    "print(a)\n",
    "sort_by_count(a,b,k)\n",
    "print(b)"
   ]
  }
 ],
 "metadata": {
  "kernelspec": {
   "display_name": "Python 3 (ipykernel)",
   "language": "python",
   "name": "python3"
  },
  "language_info": {
   "codemirror_mode": {
    "name": "ipython",
    "version": 3
   },
   "file_extension": ".py",
   "mimetype": "text/x-python",
   "name": "python",
   "nbconvert_exporter": "python",
   "pygments_lexer": "ipython3",
   "version": "3.10.5"
  }
 },
 "nbformat": 4,
 "nbformat_minor": 5
}
