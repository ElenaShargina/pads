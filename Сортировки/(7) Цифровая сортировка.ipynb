{
 "cells": [
  {
   "cell_type": "markdown",
   "id": "e50891cc",
   "metadata": {},
   "source": [
    "# Цифровая сортировка"
   ]
  },
  {
   "cell_type": "code",
   "execution_count": 3,
   "id": "c4ae7875",
   "metadata": {},
   "outputs": [
    {
     "name": "stdout",
     "output_type": "stream",
     "text": [
      "['WKS', 'AST', 'ZWQ', 'EWW', 'UFD', 'LKZ', 'BGD', 'FWV', 'HST', 'EQW']\n",
      "['AST', 'BGD', 'EQW', 'EWW', 'FWV', 'HST', 'LKZ', 'UFD', 'WKS', 'ZWQ']\n"
     ]
    }
   ],
   "source": [
    "import random, string\n",
    "# ЦИФРОВАЯ СОРТИРОВКА\n",
    "# для сортировки массива последовательностей одинаковой длины, состоящих из элементов,\n",
    "# на которых задано отношение линейного порядка\n",
    "# Устойчивая (стабильная) сортировка — сортировка,\n",
    "# которая не меняет относительный порядок сортируемых элементов,\n",
    "# имеющих одинаковые ключи, по которым происходит сортировка.\n",
    "# При сортировке записей вида [фамилия, имя, отчество] по фамилии\n",
    "# значения ключей для Иванов Сергей и Иванов Иван будут одинаковы,\n",
    "# поэтому устойчивая сортировка не переставит Сергея и Ивана местами\n",
    "# Если время работы устойчивой сортировки линейно, то время работы цифровой сортировки также линейно.\n",
    "\n",
    "def radix_sort(a,d):\n",
    "    # a[0..n] - сортируемый массив\n",
    "    # d - длина последовательностей в a, число разрядов\n",
    "    for i in range(d-1,-1,-1):\n",
    "        # сортировка по i разряду\n",
    "        a.sort(key=lambda x:x[i])\n",
    "\n",
    "# работа цифровой сортировки\n",
    "n = 10 # количество последовательностей\n",
    "d = 3 # длина последовательностей\n",
    "a = [''.join([random.choice(string.ascii_uppercase) for j in range(0,d)]) for i in range(0,n)]\n",
    "print(a)\n",
    "# print('\\n'.join(a))\n",
    "radix_sort(a,d)\n",
    "print(a)\n"
   ]
  }
 ],
 "metadata": {
  "kernelspec": {
   "display_name": "Python 3 (ipykernel)",
   "language": "python",
   "name": "python3"
  },
  "language_info": {
   "codemirror_mode": {
    "name": "ipython",
    "version": 3
   },
   "file_extension": ".py",
   "mimetype": "text/x-python",
   "name": "python",
   "nbconvert_exporter": "python",
   "pygments_lexer": "ipython3",
   "version": "3.10.5"
  }
 },
 "nbformat": 4,
 "nbformat_minor": 5
}
